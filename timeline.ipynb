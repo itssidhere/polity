{
 "cells": [
  {
   "attachments": {},
   "cell_type": "markdown",
   "metadata": {},
   "source": [
    "# 18th october 2022 - 18th november 2022"
   ]
  },
  {
   "attachments": {},
   "cell_type": "markdown",
   "metadata": {},
   "source": [
    "### 1) Collected the data from twitter to train the model\n",
    "### 2) Trained and evaluated the model\n",
    "### 3) Created a working demo of the model\n",
    "### 4) Created a frontend mockup for the app"
   ]
  },
  {
   "attachments": {},
   "cell_type": "markdown",
   "metadata": {},
   "source": [
    "# 19th november 2022 - 10th january 2023\n",
    "\n",
    "### 1) Created a working demo of the app in flutter\n",
    "### 2) Created a working demo of the API to get the data from twitter and reddit and perform sentiment analysis\n",
    "### 3) Did exploratory data analysis on facebook and instagram data"
   ]
  },
  {
   "cell_type": "markdown",
   "metadata": {},
   "source": []
  }
 ],
 "metadata": {
  "kernelspec": {
   "display_name": "base",
   "language": "python",
   "name": "python3"
  },
  "language_info": {
   "codemirror_mode": {
    "name": "ipython",
    "version": 3
   },
   "file_extension": ".py",
   "mimetype": "text/x-python",
   "name": "python",
   "nbconvert_exporter": "python",
   "pygments_lexer": "ipython3",
   "version": "3.9.12"
  },
  "orig_nbformat": 4,
  "vscode": {
   "interpreter": {
    "hash": "ec355f20fb2852ac25e868ffdec8769f0fdea86f33f1a52aba98970873d87734"
   }
  }
 },
 "nbformat": 4,
 "nbformat_minor": 2
}
